{
 "cells": [
  {
   "cell_type": "code",
   "execution_count": 1,
   "id": "bed4b05c-825a-41c5-8e3f-e02238152804",
   "metadata": {},
   "outputs": [
    {
     "name": "stdout",
     "output_type": "stream",
     "text": [
      "Welcome to Assignment-1\n"
     ]
    }
   ],
   "source": [
    "print(\"Welcome to Assignment-1\")"
   ]
  },
  {
   "cell_type": "code",
   "execution_count": 2,
   "id": "00467e0b-58a4-458a-8de0-8ea5c60b1c4c",
   "metadata": {},
   "outputs": [
    {
     "name": "stdout",
     "output_type": "stream",
     "text": [
      "Num1=  10\n",
      "Num2=  30\n",
      "Add=  40\n"
     ]
    }
   ],
   "source": [
    "Num1=10\n",
    "Num2=30\n",
    "Add=Num1+Num2\n",
    "print(\"Num1= \",Num1)\n",
    "print(\"Num2= \",Num2)\n",
    "print(\"Add= \",Add)"
   ]
  },
  {
   "cell_type": "code",
   "execution_count": 5,
   "id": "a4506c08-db9a-4f40-9afe-46c4a392fa94",
   "metadata": {},
   "outputs": [
    {
     "name": "stdin",
     "output_type": "stream",
     "text": [
      "Num1=  10\n",
      "Num2=  30\n"
     ]
    },
    {
     "name": "stdout",
     "output_type": "stream",
     "text": [
      "Add=  40\n"
     ]
    }
   ],
   "source": [
    "Num1=int(input(\"Num1= \"))\n",
    "Num2=int(input(\"Num2= \"))\n",
    "Add=Num1+Num2\n",
    "print(\"Add= \",Add)"
   ]
  },
  {
   "cell_type": "code",
   "execution_count": 6,
   "id": "a33309a5-74e0-465b-b04b-e44ce1da48d1",
   "metadata": {},
   "outputs": [
    {
     "name": "stdin",
     "output_type": "stream",
     "text": [
      "Enter the BMI Index: 34\n"
     ]
    },
    {
     "name": "stdout",
     "output_type": "stream",
     "text": [
      "Very Over Weight\n"
     ]
    }
   ],
   "source": [
    "BMI=int(input(\"Enter the BMI Index:\"))\n",
    "if(BMI<=18.5):\n",
    "    print(\"Under Weight\")\n",
    "if(BMI<=24.9):\n",
    "    print(\"Normal Weight\")\n",
    "if(BMI<=29.9):\n",
    "    print(\"Over Weight\")\n",
    "else:\n",
    "    print(\"Very Over Weight\")"
   ]
  },
  {
   "cell_type": "code",
   "execution_count": null,
   "id": "f0216f34-9917-445e-b1c7-8c1503318113",
   "metadata": {},
   "outputs": [],
   "source": []
  }
 ],
 "metadata": {
  "kernelspec": {
   "display_name": "Python 3 (ipykernel)",
   "language": "python",
   "name": "python3"
  },
  "language_info": {
   "codemirror_mode": {
    "name": "ipython",
    "version": 3
   },
   "file_extension": ".py",
   "mimetype": "text/x-python",
   "name": "python",
   "nbconvert_exporter": "python",
   "pygments_lexer": "ipython3",
   "version": "3.12.7"
  }
 },
 "nbformat": 4,
 "nbformat_minor": 5
}
