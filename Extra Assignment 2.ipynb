{
 "cells": [
  {
   "cell_type": "code",
   "execution_count": 3,
   "id": "13ed6fa3-1b8b-420f-88da-c0fa61593faf",
   "metadata": {},
   "outputs": [
    {
     "name": "stdout",
     "output_type": "stream",
     "text": [
      "0\n",
      "1\n",
      "2\n",
      "3\n",
      "4\n",
      "5\n",
      "6\n",
      "7\n",
      "8\n",
      "9\n",
      "10\n",
      "11\n",
      "12\n",
      "13\n",
      "14\n",
      "15\n",
      "16\n",
      "17\n",
      "18\n",
      "19\n"
     ]
    }
   ],
   "source": [
    "for a in range(0,20):\n",
    "    print(a)"
   ]
  },
  {
   "cell_type": "code",
   "execution_count": 6,
   "id": "fecbf68c-f9e2-4dd0-9879-1d23b84e744b",
   "metadata": {},
   "outputs": [
    {
     "name": "stdout",
     "output_type": "stream",
     "text": [
      "10 11 12 13 14 15 16 17 18 19 "
     ]
    }
   ],
   "source": [
    "for i in range(10,20):\n",
    "    print(i,end=\" \")\n",
    "          "
   ]
  },
  {
   "cell_type": "code",
   "execution_count": 26,
   "id": "efed6f29-909d-45b2-aaf2-0125385d43dd",
   "metadata": {},
   "outputs": [
    {
     "name": "stdout",
     "output_type": "stream",
     "text": [
      "[10, 20, 14, 55, 43, 87, 76]\n",
      "Number of item in the List2:\n",
      "7\n"
     ]
    }
   ],
   "source": [
    "num=[10,20,14,55,43,87,76]\n",
    "print(num)\n",
    "print(\"Number of item in the List2:\")\n",
    "print(len(num))"
   ]
  },
  {
   "cell_type": "code",
   "execution_count": 31,
   "id": "5ae02788-1be7-4cfe-bbb0-70f103f67cf9",
   "metadata": {},
   "outputs": [
    {
     "name": "stdout",
     "output_type": "stream",
     "text": [
      "Artificial Intelligence\n",
      "A\n",
      "r\n",
      "t\n",
      "i\n",
      "f\n",
      "i\n",
      "c\n",
      "i\n",
      "a\n",
      "l\n",
      " \n",
      "I\n",
      "n\n",
      "t\n",
      "e\n",
      "l\n",
      "l\n",
      "i\n",
      "g\n",
      "e\n",
      "n\n",
      "c\n",
      "e\n"
     ]
    }
   ],
   "source": [
    "alpha=\"Artificial Intelligence\"\n",
    "print(\"Artificial Intelligence\")\n",
    "for a in alpha:\n",
    "    print(a)"
   ]
  },
  {
   "cell_type": "code",
   "execution_count": 32,
   "id": "0e98bf4d-64ba-4cf1-9844-9f3ac63172cd",
   "metadata": {},
   "outputs": [
    {
     "name": "stdout",
     "output_type": "stream",
     "text": [
      "-Your Name-\n",
      "-Your Age-\n",
      "-Your Profession-\n"
     ]
    }
   ],
   "source": [
    "print(\"-Your Name-\")\n",
    "print(\"-Your Age-\")\n",
    "print(\"-Your Profession-\")"
   ]
  },
  {
   "cell_type": "code",
   "execution_count": 33,
   "id": "a2142741-9c8c-47cb-98aa-607c853a2cb3",
   "metadata": {},
   "outputs": [
    {
     "name": "stdout",
     "output_type": "stream",
     "text": [
      "(1, 'Welcome', 2, 'Python')\n"
     ]
    }
   ],
   "source": [
    "dict=(1,'Welcome', 2, 'Python')\n",
    "print(dict)"
   ]
  },
  {
   "cell_type": "code",
   "execution_count": 34,
   "id": "278bad20-15c2-493e-b5f3-f25843ed6f6d",
   "metadata": {},
   "outputs": [
    {
     "name": "stdout",
     "output_type": "stream",
     "text": [
      "((0, 1, 2, 3), ('python', 'HOPE'))\n"
     ]
    }
   ],
   "source": [
    "tuple=((0,1,2,3),('python','HOPE'))\n",
    "print(tuple)"
   ]
  },
  {
   "cell_type": "code",
   "execution_count": 42,
   "id": "f5ed7773-ce6b-47ee-889a-7fc62740ebe3",
   "metadata": {},
   "outputs": [
    {
     "name": "stdout",
     "output_type": "stream",
     "text": [
      "(20, 10, 16, 19, 25, 1, 276, 188)\n",
      "19 is odd\n",
      "25 is odd\n",
      "1 is odd\n"
     ]
    }
   ],
   "source": [
    "num=(20,10,16,19,25,1,276,188)\n",
    "print(num)\n",
    "for i in num:\n",
    "    if((i%2)==1):\n",
    "        print(i,\"is odd\")\n",
    "    "
   ]
  },
  {
   "cell_type": "code",
   "execution_count": 44,
   "id": "4ed98abd-675a-47da-abbd-ad8a2ce6a119",
   "metadata": {},
   "outputs": [
    {
     "name": "stdout",
     "output_type": "stream",
     "text": [
      "(20, 10, 16, 19, 25, 1, 276, 188)\n",
      "20 is Even\n",
      "10 is Even\n",
      "16 is Even\n",
      "276 is Even\n",
      "188 is Even\n"
     ]
    }
   ],
   "source": [
    "num=(20,10,16,19,25,1,276,188)\n",
    "print(num)\n",
    "for i in num:\n",
    "    if((i%2)==0):\n",
    "        print(i,\"is Even\")\n",
    "    "
   ]
  },
  {
   "cell_type": "code",
   "execution_count": null,
   "id": "ba352d3a-0839-4183-b460-dc3c80cdf138",
   "metadata": {},
   "outputs": [],
   "source": []
  }
 ],
 "metadata": {
  "kernelspec": {
   "display_name": "Python 3 (ipykernel)",
   "language": "python",
   "name": "python3"
  },
  "language_info": {
   "codemirror_mode": {
    "name": "ipython",
    "version": 3
   },
   "file_extension": ".py",
   "mimetype": "text/x-python",
   "name": "python",
   "nbconvert_exporter": "python",
   "pygments_lexer": "ipython3",
   "version": "3.12.7"
  }
 },
 "nbformat": 4,
 "nbformat_minor": 5
}
