{
 "cells": [
  {
   "cell_type": "code",
   "execution_count": 5,
   "id": "6da5d7f9-f170-4a0d-bb51-e9b5cc7a15cc",
   "metadata": {},
   "outputs": [
    {
     "name": "stdin",
     "output_type": "stream",
     "text": [
      "value: 10\n"
     ]
    },
    {
     "name": "stdout",
     "output_type": "stream",
     "text": [
      "Correct\n"
     ]
    }
   ],
   "source": [
    "i=int(input(\"value:\"))\n",
    "if(i==10):\n",
    "    print(\"Correct\")"
   ]
  },
  {
   "cell_type": "code",
   "execution_count": 8,
   "id": "d8122719-03d9-42d4-b8c2-fb6c8ac728a4",
   "metadata": {},
   "outputs": [
    {
     "name": "stdin",
     "output_type": "stream",
     "text": [
      "Enter the Password: Hope@123\n"
     ]
    },
    {
     "name": "stdout",
     "output_type": "stream",
     "text": [
      "Your password is correct\n"
     ]
    }
   ],
   "source": [
    "a=\"Hope@123\"\n",
    "i=input(\"Enter the Password:\")\n",
    "if(i==a):\n",
    "    print(\"Your password is correct\")\n",
    "else:\n",
    "    print(\"Your password is incorrect\")"
   ]
  },
  {
   "cell_type": "code",
   "execution_count": 12,
   "id": "2fadc778-ee6a-435a-a182-10c1cf810c0d",
   "metadata": {},
   "outputs": [
    {
     "name": "stdin",
     "output_type": "stream",
     "text": [
      "age: 20\n"
     ]
    },
    {
     "name": "stdout",
     "output_type": "stream",
     "text": [
      "Adult\n"
     ]
    }
   ],
   "source": [
    "a=int(input(\"age:\"))\n",
    "if(a<=18):\n",
    "      print(\"Children\")\n",
    "elif(a<=40):\n",
    "      print(\"Adult\")\n",
    "elif(a<=65):\n",
    "    print(\"Citizen\")\n",
    "else:\n",
    "    print(\"Senior Citizen\")"
   ]
  },
  {
   "cell_type": "code",
   "execution_count": 4,
   "id": "3c5aab90-2ef0-463d-b3bf-6d6dc5384423",
   "metadata": {},
   "outputs": [
    {
     "name": "stdin",
     "output_type": "stream",
     "text": [
      "Enter any number: 1\n"
     ]
    },
    {
     "name": "stdout",
     "output_type": "stream",
     "text": [
      "No is Positive\n"
     ]
    }
   ],
   "source": [
    "a=int(input(\"Enter any number:\"))\n",
    "if(a>0):\n",
    "    print(\"No is Positive\")\n",
    "else:\n",
    "    print(\"No is Negative\")"
   ]
  },
  {
   "cell_type": "code",
   "execution_count": 6,
   "id": "97bf4f1a-7d20-4894-969a-a906df0c46b1",
   "metadata": {},
   "outputs": [
    {
     "name": "stdin",
     "output_type": "stream",
     "text": [
      "Enter a number to check: 22\n"
     ]
    },
    {
     "name": "stdout",
     "output_type": "stream",
     "text": [
      "No is not divisible by 5\n"
     ]
    }
   ],
   "source": [
    "a=int(input(\"Enter a number to check:\"))\n",
    "if(a/5)==0:\n",
    "    print(\"No is divisible by 5\")\n",
    "else:\n",
    "    print(\"No is not divisible by 5\")"
   ]
  },
  {
   "cell_type": "code",
   "execution_count": null,
   "id": "5a99595f-bc02-4a3f-933e-4fff87558871",
   "metadata": {},
   "outputs": [],
   "source": []
  }
 ],
 "metadata": {
  "kernelspec": {
   "display_name": "Python 3 (ipykernel)",
   "language": "python",
   "name": "python3"
  },
  "language_info": {
   "codemirror_mode": {
    "name": "ipython",
    "version": 3
   },
   "file_extension": ".py",
   "mimetype": "text/x-python",
   "name": "python",
   "nbconvert_exporter": "python",
   "pygments_lexer": "ipython3",
   "version": "3.12.7"
  }
 },
 "nbformat": 4,
 "nbformat_minor": 5
}
