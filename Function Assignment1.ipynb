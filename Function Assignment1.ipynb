{
 "cells": [
  {
   "cell_type": "code",
   "execution_count": 18,
   "id": "d9d0e84e-967b-4317-9bd3-0c4a3c92e56e",
   "metadata": {},
   "outputs": [],
   "source": [
    "def Subfields():\n",
    "    print(\"Sub-fields in AI are\")\n",
    "    lists=[\"MachineLearning\",\"Neural Networks\",\"Vision\",\"Robotics\",\"Speech PRocessing\",\"Natural Language Processing\"]\n",
    "    for i in lists:\n",
    "            print(i)\n",
    "    "
   ]
  },
  {
   "cell_type": "code",
   "execution_count": 19,
   "id": "d4a67489-853c-4496-81f5-3a2bc0f5d8e4",
   "metadata": {},
   "outputs": [
    {
     "name": "stdout",
     "output_type": "stream",
     "text": [
      "Sub-fields in AI are\n",
      "MachineLearning\n",
      "Neural Networks\n",
      "Vision\n",
      "Robotics\n",
      "Speech PRocessing\n",
      "Natural Language Processing\n"
     ]
    }
   ],
   "source": [
    "sub=Subfields()"
   ]
  },
  {
   "cell_type": "code",
   "execution_count": 28,
   "id": "4c05d0fb-8269-4356-ab73-f1a9cf9923a4",
   "metadata": {},
   "outputs": [],
   "source": [
    "def OddEven():\n",
    "    i=int(input(\"Enter a number\"))\n",
    "    if((i%2)==0):\n",
    "        print(i, \"is Even Number\")\n",
    "    else:\n",
    "        print(i, \"is Odd Number\")"
   ]
  },
  {
   "cell_type": "code",
   "execution_count": 29,
   "id": "702f7846-fdfb-42fc-9745-9649d12476a4",
   "metadata": {},
   "outputs": [
    {
     "name": "stdin",
     "output_type": "stream",
     "text": [
      "Enter a number 52452\n"
     ]
    },
    {
     "name": "stdout",
     "output_type": "stream",
     "text": [
      "52452 is Even Number\n"
     ]
    }
   ],
   "source": [
    "OddEven()"
   ]
  },
  {
   "cell_type": "code",
   "execution_count": 33,
   "id": "5b73c466-bd7e-482d-81c5-c16d2cd9ff9a",
   "metadata": {},
   "outputs": [],
   "source": [
    "def eligibilityformarriage():\n",
    "    gen=input(\"Your Gender\")\n",
    "    age=int(input(\"Your Age:\"))\n",
    "    if (age>=25):\n",
    "        print(\"ELIGIBLE\")\n",
    "    else:\n",
    "        print(\"NOT ELIGIBLE\")"
   ]
  },
  {
   "cell_type": "code",
   "execution_count": 34,
   "id": "04a0148a-5465-477e-b768-7d7061025e84",
   "metadata": {},
   "outputs": [
    {
     "name": "stdin",
     "output_type": "stream",
     "text": [
      "Your Gender Male\n",
      "Your Age: 20\n"
     ]
    },
    {
     "name": "stdout",
     "output_type": "stream",
     "text": [
      "NOT ELIGIBLE\n"
     ]
    }
   ],
   "source": [
    "eligibilityformarriage()"
   ]
  },
  {
   "cell_type": "code",
   "execution_count": 39,
   "id": "4ac0e057-7605-46b1-a6ac-b49b9a61c2fe",
   "metadata": {},
   "outputs": [],
   "source": [
    "def findpercent():\n",
    "    a=int(input(\"Subject1=\"))\n",
    "    b=int(input(\"Subject2=\"))\n",
    "    c=int(input(\"Subject3=\"))\n",
    "    d=int(input(\"Subject4=\"))\n",
    "    e=int(input(\"Subject5=\"))\n",
    "    add=a+b+c+d+e\n",
    "    print(\"Total:\",add)\n",
    "    percent=(add/500)*100\n",
    "    print(\"Percentage:\",percent)\n",
    "          "
   ]
  },
  {
   "cell_type": "code",
   "execution_count": 40,
   "id": "5b6d2b11-5255-44bd-9be3-733cc2fd6d8c",
   "metadata": {},
   "outputs": [
    {
     "name": "stdin",
     "output_type": "stream",
     "text": [
      "Subject1= 98\n",
      "Subject2= 87\n",
      "Subject3= 95\n",
      "Subject4= 95\n",
      "Subject5= 93\n"
     ]
    },
    {
     "name": "stdout",
     "output_type": "stream",
     "text": [
      "Total: 468\n",
      "Percentage: 93.60000000000001\n"
     ]
    }
   ],
   "source": [
    "findpercent()"
   ]
  },
  {
   "cell_type": "code",
   "execution_count": 3,
   "id": "1bb23eac-01e5-4a74-bcc2-80b867b70556",
   "metadata": {},
   "outputs": [],
   "source": [
    "def triangle():\n",
    "    height=int(input(\"Height:\"))\n",
    "    breadth=int(input(\"Breadth:\"))\n",
    "    print(\"Area Formula: (Height*Breadth)/2\")\n",
    "    triangle=(height*breadth)/2\n",
    "    print(\"Area of Triangle:\",triangle)\n",
    "    height1=int(input(\"Height1:\"))\n",
    "    height2=int(input(\"Height2:\"))\n",
    "    breadth=int(input(\"Breadth:\"))\n",
    "    print(\"Perimeter Formula: Height1+Height2+Breadth\")\n",
    "    perimeter=height1+height2+breadth\n",
    "    print(\"Perimeter of Triangle:\",perimeter)\n",
    "\n"
   ]
  },
  {
   "cell_type": "code",
   "execution_count": 4,
   "id": "e99f52aa-10fb-4dd0-9ebf-cfdcc6b9f22f",
   "metadata": {},
   "outputs": [
    {
     "name": "stdin",
     "output_type": "stream",
     "text": [
      "Height: 32\n",
      "Breadth: 34\n"
     ]
    },
    {
     "name": "stdout",
     "output_type": "stream",
     "text": [
      "Area Formula: (Height*Breadth)/2\n",
      "Area of Triangle: 544.0\n"
     ]
    },
    {
     "name": "stdin",
     "output_type": "stream",
     "text": [
      "Height1: 2\n",
      "Height2: 4\n",
      "Breadth: 4\n"
     ]
    },
    {
     "name": "stdout",
     "output_type": "stream",
     "text": [
      "Perimeter Formula: Height1+Height2+Breadth\n",
      "Perimeter of Triangle: 10\n"
     ]
    }
   ],
   "source": [
    "triangle()"
   ]
  },
  {
   "cell_type": "code",
   "execution_count": null,
   "id": "e7c16e50-ddef-4e2e-bbe5-bb3c64bb719e",
   "metadata": {},
   "outputs": [],
   "source": []
  }
 ],
 "metadata": {
  "kernelspec": {
   "display_name": "Python 3 (ipykernel)",
   "language": "python",
   "name": "python3"
  },
  "language_info": {
   "codemirror_mode": {
    "name": "ipython",
    "version": 3
   },
   "file_extension": ".py",
   "mimetype": "text/x-python",
   "name": "python",
   "nbconvert_exporter": "python",
   "pygments_lexer": "ipython3",
   "version": "3.12.7"
  }
 },
 "nbformat": 4,
 "nbformat_minor": 5
}
