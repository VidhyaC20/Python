{
 "cells": [
  {
   "cell_type": "code",
   "execution_count": 8,
   "id": "0860afbc-484b-4bc5-88b0-b2fc699a3265",
   "metadata": {},
   "outputs": [],
   "source": [
    "import pandas as pd\n",
    "import numpy as np"
   ]
  },
  {
   "cell_type": "code",
   "execution_count": 2,
   "id": "8f2c1d66-9e90-46ce-9110-c6012047423b",
   "metadata": {},
   "outputs": [],
   "source": [
    "import warnings\n",
    "warnings.filterwarnings(\"ignore\")"
   ]
  },
  {
   "cell_type": "code",
   "execution_count": 4,
   "id": "f507f8fb-fb86-44b4-a720-a4929f4ac735",
   "metadata": {},
   "outputs": [],
   "source": [
    "dataset=pd.read_csv(\"Placement.csv\")"
   ]
  },
  {
   "cell_type": "code",
   "execution_count": 5,
   "id": "a76009b9-2ec2-478a-b739-bb2640255bbc",
   "metadata": {},
   "outputs": [
    {
     "data": {
      "text/plain": [
       "Index(['sl_no', 'gender', 'ssc_p', 'ssc_b', 'hsc_p', 'hsc_b', 'hsc_s',\n",
       "       'degree_p', 'degree_t', 'workex', 'etest_p', 'specialisation', 'mba_p',\n",
       "       'status', 'salary'],\n",
       "      dtype='object')"
      ]
     },
     "execution_count": 5,
     "metadata": {},
     "output_type": "execute_result"
    }
   ],
   "source": [
    "dataset.columns"
   ]
  },
  {
   "cell_type": "code",
   "execution_count": 6,
   "id": "186a5405-5a1a-42d6-86ae-63070f93e91a",
   "metadata": {},
   "outputs": [],
   "source": [
    "quan=dataset[['sl_no', 'ssc_p', 'hsc_p',\n",
    "       'degree_p', 'etest_p', 'mba_p', 'salary']]"
   ]
  },
  {
   "cell_type": "code",
   "execution_count": 7,
   "id": "48a1f3b6-6f3c-4c9a-bdcc-58ff3c6c665d",
   "metadata": {},
   "outputs": [],
   "source": [
    "qual=dataset[['gender', 'ssc_b', 'hsc_b', 'hsc_s',\n",
    "        'degree_t', 'workex', 'specialisation', \n",
    "       'status']]"
   ]
  },
  {
   "cell_type": "code",
   "execution_count": 16,
   "id": "8d4497d9-0849-4bf4-85f4-638914743dda",
   "metadata": {},
   "outputs": [],
   "source": [
    "des=pd.DataFrame(index=[\"Mean\",\"Median\",\"Mode\",\"Q1=25%\",\"Q2=50%\",\"Q3=75%\",\"Q4=100%\"], columns=quan.columns)\n",
    "for columnname in quan:\n",
    "    des[columnname][\"Mean\"]=dataset[columnname].mean()\n",
    "    des[columnname][\"Median\"]=dataset[columnname].median()\n",
    "    des[columnname][\"Mode\"]=dataset[columnname].mode()[0]\n",
    "    des[columnname][\"Q1=25%\"]=dataset.describe()[columnname][\"25%\"]\n",
    "    des[columnname][\"Q2=50%\"]=dataset.describe()[columnname][\"50%\"]\n",
    "    des[columnname][\"Q3=75%\"]=dataset.describe()[columnname][\"75%\"]\n",
    "    des[columnname][\"Q4=100%\"]=dataset.describe()[columnname][\"max\"]"
   ]
  },
  {
   "cell_type": "code",
   "execution_count": 17,
   "id": "6bb081bd-a53c-4540-a3a7-cb27b096c8c3",
   "metadata": {},
   "outputs": [
    {
     "data": {
      "text/html": [
       "<div>\n",
       "<style scoped>\n",
       "    .dataframe tbody tr th:only-of-type {\n",
       "        vertical-align: middle;\n",
       "    }\n",
       "\n",
       "    .dataframe tbody tr th {\n",
       "        vertical-align: top;\n",
       "    }\n",
       "\n",
       "    .dataframe thead th {\n",
       "        text-align: right;\n",
       "    }\n",
       "</style>\n",
       "<table border=\"1\" class=\"dataframe\">\n",
       "  <thead>\n",
       "    <tr style=\"text-align: right;\">\n",
       "      <th></th>\n",
       "      <th>sl_no</th>\n",
       "      <th>ssc_p</th>\n",
       "      <th>hsc_p</th>\n",
       "      <th>degree_p</th>\n",
       "      <th>etest_p</th>\n",
       "      <th>mba_p</th>\n",
       "      <th>salary</th>\n",
       "    </tr>\n",
       "  </thead>\n",
       "  <tbody>\n",
       "    <tr>\n",
       "      <th>Mean</th>\n",
       "      <td>108.0</td>\n",
       "      <td>67.303395</td>\n",
       "      <td>66.333163</td>\n",
       "      <td>66.370186</td>\n",
       "      <td>72.100558</td>\n",
       "      <td>62.278186</td>\n",
       "      <td>288655.405405</td>\n",
       "    </tr>\n",
       "    <tr>\n",
       "      <th>Median</th>\n",
       "      <td>108.0</td>\n",
       "      <td>67.0</td>\n",
       "      <td>65.0</td>\n",
       "      <td>66.0</td>\n",
       "      <td>71.0</td>\n",
       "      <td>62.0</td>\n",
       "      <td>265000.0</td>\n",
       "    </tr>\n",
       "    <tr>\n",
       "      <th>Mode</th>\n",
       "      <td>1</td>\n",
       "      <td>62.0</td>\n",
       "      <td>63.0</td>\n",
       "      <td>65.0</td>\n",
       "      <td>60.0</td>\n",
       "      <td>56.7</td>\n",
       "      <td>300000.0</td>\n",
       "    </tr>\n",
       "    <tr>\n",
       "      <th>Q1=25%</th>\n",
       "      <td>54.5</td>\n",
       "      <td>60.6</td>\n",
       "      <td>60.9</td>\n",
       "      <td>61.0</td>\n",
       "      <td>60.0</td>\n",
       "      <td>57.945</td>\n",
       "      <td>240000.0</td>\n",
       "    </tr>\n",
       "    <tr>\n",
       "      <th>Q2=50%</th>\n",
       "      <td>108.0</td>\n",
       "      <td>67.0</td>\n",
       "      <td>65.0</td>\n",
       "      <td>66.0</td>\n",
       "      <td>71.0</td>\n",
       "      <td>62.0</td>\n",
       "      <td>265000.0</td>\n",
       "    </tr>\n",
       "    <tr>\n",
       "      <th>Q3=75%</th>\n",
       "      <td>161.5</td>\n",
       "      <td>75.7</td>\n",
       "      <td>73.0</td>\n",
       "      <td>72.0</td>\n",
       "      <td>83.5</td>\n",
       "      <td>66.255</td>\n",
       "      <td>300000.0</td>\n",
       "    </tr>\n",
       "    <tr>\n",
       "      <th>Q4=100%</th>\n",
       "      <td>215.0</td>\n",
       "      <td>89.4</td>\n",
       "      <td>97.7</td>\n",
       "      <td>91.0</td>\n",
       "      <td>98.0</td>\n",
       "      <td>77.89</td>\n",
       "      <td>940000.0</td>\n",
       "    </tr>\n",
       "  </tbody>\n",
       "</table>\n",
       "</div>"
      ],
      "text/plain": [
       "         sl_no      ssc_p      hsc_p   degree_p    etest_p      mba_p  \\\n",
       "Mean     108.0  67.303395  66.333163  66.370186  72.100558  62.278186   \n",
       "Median   108.0       67.0       65.0       66.0       71.0       62.0   \n",
       "Mode         1       62.0       63.0       65.0       60.0       56.7   \n",
       "Q1=25%    54.5       60.6       60.9       61.0       60.0     57.945   \n",
       "Q2=50%   108.0       67.0       65.0       66.0       71.0       62.0   \n",
       "Q3=75%   161.5       75.7       73.0       72.0       83.5     66.255   \n",
       "Q4=100%  215.0       89.4       97.7       91.0       98.0      77.89   \n",
       "\n",
       "                salary  \n",
       "Mean     288655.405405  \n",
       "Median        265000.0  \n",
       "Mode          300000.0  \n",
       "Q1=25%        240000.0  \n",
       "Q2=50%        265000.0  \n",
       "Q3=75%        300000.0  \n",
       "Q4=100%       940000.0  "
      ]
     },
     "execution_count": 17,
     "metadata": {},
     "output_type": "execute_result"
    }
   ],
   "source": [
    "des"
   ]
  },
  {
   "cell_type": "code",
   "execution_count": null,
   "id": "bfff7ec0-2584-4bca-878a-62118025945e",
   "metadata": {},
   "outputs": [],
   "source": []
  }
 ],
 "metadata": {
  "kernelspec": {
   "display_name": "Python 3 (ipykernel)",
   "language": "python",
   "name": "python3"
  },
  "language_info": {
   "codemirror_mode": {
    "name": "ipython",
    "version": 3
   },
   "file_extension": ".py",
   "mimetype": "text/x-python",
   "name": "python",
   "nbconvert_exporter": "python",
   "pygments_lexer": "ipython3",
   "version": "3.10.18"
  }
 },
 "nbformat": 4,
 "nbformat_minor": 5
}
