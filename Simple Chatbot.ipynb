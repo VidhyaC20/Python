{
 "cells": [
  {
   "cell_type": "code",
   "execution_count": 1,
   "id": "3199fc39-ad76-48e0-8c07-d755bff58107",
   "metadata": {},
   "outputs": [],
   "source": [
    "import openai"
   ]
  },
  {
   "cell_type": "code",
   "execution_count": 4,
   "id": "e73fb2c2-9bbb-4959-afd0-d6512551e5b0",
   "metadata": {},
   "outputs": [],
   "source": [
    "client=openai.OpenAI(api_key=\"\")"
   ]
  },
  {
   "cell_type": "code",
   "execution_count": 5,
   "id": "c376e369-a512-40af-b7e8-4a496208f09f",
   "metadata": {},
   "outputs": [],
   "source": [
    "completion=client.chat.completions.create(model=\"gpt-3.5-turbo\", messages=[{\"role\": \"user\", \"content\": \"Give me 3 ideas for apps that I could built with openai\"}])"
   ]
  },
  {
   "cell_type": "code",
   "execution_count": 6,
   "id": "dc9c71c8-1c78-4dc4-9222-00e4040c3020",
   "metadata": {},
   "outputs": [
    {
     "name": "stdout",
     "output_type": "stream",
     "text": [
      "1. Smart Virtual Assistant App - An app that uses OpenAI's language model to improve virtual assistant capabilities, allowing users to have more natural and human-like conversations with their assistants. This app could offer features such as personalized suggestions, task reminders, and assistance with daily tasks and decision-making.\n",
      "\n",
      "2. Sentiment Analysis App - An app that analyzes text (such as social media posts, customer reviews, or news articles) using OpenAI's language model to determine sentiment and emotions. This app could be used by businesses to better understand their customer's feedback and sentiments, as well as by individuals to track and visualize their emotions over time.\n",
      "\n",
      "3. Creative Writing Prompts App - An app that generates creative writing prompts and ideas using OpenAI's language model. Users could input a few keywords or themes, and the app would provide them with unique and inspiring writing prompts to help kickstart their creativity. This app could be useful for writers, bloggers, and students looking for inspiration for their next writing project.\n"
     ]
    }
   ],
   "source": [
    "print(completion.choices[0].message.content)"
   ]
  },
  {
   "cell_type": "code",
   "execution_count": null,
   "id": "4ba1818d-1448-4150-8693-0f51a5563336",
   "metadata": {},
   "outputs": [],
   "source": []
  }
 ],
 "metadata": {
  "kernelspec": {
   "display_name": "Python 3 (ipykernel)",
   "language": "python",
   "name": "python3"
  },
  "language_info": {
   "codemirror_mode": {
    "name": "ipython",
    "version": 3
   },
   "file_extension": ".py",
   "mimetype": "text/x-python",
   "name": "python",
   "nbconvert_exporter": "python",
   "pygments_lexer": "ipython3",
   "version": "3.10.18"
  }
 },
 "nbformat": 4,
 "nbformat_minor": 5
}
