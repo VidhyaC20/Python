{
 "cells": [
  {
   "cell_type": "code",
   "execution_count": 1,
   "id": "78fa47d7-6bd1-4f43-a1f6-c521586df365",
   "metadata": {},
   "outputs": [],
   "source": [
    "import openai"
   ]
  },
  {
   "cell_type": "code",
   "execution_count": 2,
   "id": "a56a5e12-5a18-4141-b3c0-f9b6cf639e87",
   "metadata": {},
   "outputs": [],
   "source": [
    "client=openai.OpenAI(api_key=\"\")\n"
   ]
  },
  {
   "cell_type": "code",
   "execution_count": null,
   "id": "55f10eb9-03ea-4708-99d0-ba3fe653ce73",
   "metadata": {},
   "outputs": [
    {
     "name": "stdin",
     "output_type": "stream",
     "text": [
      "What type of chatbot would you like to create\n",
      " act as chef bot\n"
     ]
    },
    {
     "name": "stdout",
     "output_type": "stream",
     "text": [
      "Your Assistant is Ready\n",
      "\n"
     ]
    },
    {
     "name": "stdin",
     "output_type": "stream",
     "text": [
      " make a cake\n"
     ]
    },
    {
     "name": "stdout",
     "output_type": "stream",
     "text": [
      "\n",
      "Sure! Here's a simple recipe for a classic vanilla cake:\n",
      "\n",
      "Ingredients:\n",
      "- 2 1/2 cups all-purpose flour\n",
      "- 1 1/2 cups granulated sugar\n",
      "- 1 cup milk\n",
      "- 1/2 cup unsalted butter, softened\n",
      "- 3 eggs\n",
      "- 2 teaspoons baking powder\n",
      "- 1 teaspoon vanilla extract\n",
      "- 1/2 teaspoon salt\n",
      "\n",
      "Instructions:\n",
      "1. Preheat your oven to 350°F (180°C) and grease and flour a round cake pan.\n",
      "2. In a mixing bowl, cream together the butter and sugar until light and fluffy.\n",
      "3. Add the eggs one at a time, mixing well after each addition. Stir in the vanilla extract.\n",
      "4. In a separate bowl, whisk together the flour, baking powder, and salt.\n",
      "5. Gradually add the dry ingredients to the wet ingredients, alternating with the milk, and mix until well combined.\n",
      "6. Pour the batter into the prepared cake pan and bake for 25-30 minutes, or until a toothpick inserted into the center comes out clean.\n",
      "7. Allow the cake to cool before frosting and decorating as desired.\n",
      "\n",
      "Feel free to use your favorite frosting or decorations to customize your cake! Enjoy!\n",
      "\n"
     ]
    }
   ],
   "source": [
    "messages=[]\n",
    "system_msg=input(\"What type of chatbot would you like to create\\n\")\n",
    "messages.append({\"role\": \"system\", \"content\": \"system_msg\"})\n",
    "\n",
    "print(\"Your Assistant is Ready\\n\")\n",
    "\n",
    "while True:\n",
    "    user_input = input()\n",
    "    if user_input.lower() == \"quit\":\n",
    "        break\n",
    "\n",
    "    messages.append({\"role\": \"user\", \"content\":user_input})\n",
    "\n",
    "    response = client.chat.completions.create(model=\"gpt-3.5-turbo\", messages=messages)\n",
    "\n",
    "    reply=response.choices[0].message.content\n",
    "    messages.append({\"role\": \"assistant\", \"content\": reply})\n",
    "\n",
    "    print(\"\\n\" + reply + \"\\n\")\n"
   ]
  },
  {
   "cell_type": "code",
   "execution_count": null,
   "id": "eb1ffbf1-f750-4f11-9982-fe4ae772ac99",
   "metadata": {},
   "outputs": [],
   "source": []
  }
 ],
 "metadata": {
  "kernelspec": {
   "display_name": "Python 3 (ipykernel)",
   "language": "python",
   "name": "python3"
  },
  "language_info": {
   "codemirror_mode": {
    "name": "ipython",
    "version": 3
   },
   "file_extension": ".py",
   "mimetype": "text/x-python",
   "name": "python",
   "nbconvert_exporter": "python",
   "pygments_lexer": "ipython3",
   "version": "3.10.18"
  }
 },
 "nbformat": 4,
 "nbformat_minor": 5
}
