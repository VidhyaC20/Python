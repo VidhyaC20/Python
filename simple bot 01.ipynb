{
 "cells": [
  {
   "cell_type": "code",
   "execution_count": 1,
   "id": "f1adaa16-a39b-4760-914b-0bff39c187a8",
   "metadata": {},
   "outputs": [],
   "source": [
    "import openai"
   ]
  },
  {
   "cell_type": "code",
   "execution_count": 8,
   "id": "baaf98cf-1026-4035-9c27-e748f1548728",
   "metadata": {},
   "outputs": [],
   "source": [
    "def get_completion_from_messages(messages, model=\"gpt-3.5-turbo\",temperature=0,max_tokens=500):\n",
    "    client=openai.OpenAI(api_key=\"\")\n",
    "    response=client.chat.completions.create(messages=messages,model=model,temperature=temperature,max_tokens=max_tokens)\n",
    "    return response.choices[0].message.content"
   ]
  },
  {
   "cell_type": "code",
   "execution_count": 9,
   "id": "2135c5dd-8e29-4c8d-9162-140d0422916b",
   "metadata": {},
   "outputs": [
    {
     "name": "stdout",
     "output_type": "stream",
     "text": [
      "This poem is a classic nursery rhyme that describes the beauty and wonder of a twinkling star in the night sky. It captures the innocence and curiosity of a child gazing up at the stars and marveling at their brilliance. The simple and repetitive language makes it easy for young children to memorize and recite. Overall, the poem conveys a sense of awe and admiration for the natural world.\n"
     ]
    }
   ],
   "source": [
    "messages=[{\"role\":\"system\", \"content\":\"give poem description in sentences\"}, {\"role\":\"user\",\"content\":\"Poen on Twinkle Twinkle little star\"}]\n",
    "response=get_completion_from_messages(messages,temperature=1)\n",
    "print(response)"
   ]
  },
  {
   "cell_type": "code",
   "execution_count": null,
   "id": "816cf0b5-d2bb-4ddb-908c-ec3e8a9e4b27",
   "metadata": {},
   "outputs": [],
   "source": []
  }
 ],
 "metadata": {
  "kernelspec": {
   "display_name": "Python 3 (ipykernel)",
   "language": "python",
   "name": "python3"
  },
  "language_info": {
   "codemirror_mode": {
    "name": "ipython",
    "version": 3
   },
   "file_extension": ".py",
   "mimetype": "text/x-python",
   "name": "python",
   "nbconvert_exporter": "python",
   "pygments_lexer": "ipython3",
   "version": "3.10.18"
  }
 },
 "nbformat": 4,
 "nbformat_minor": 5
}
